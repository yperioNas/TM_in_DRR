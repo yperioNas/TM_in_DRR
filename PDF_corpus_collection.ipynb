{
 "cells": [
  {
   "cell_type": "code",
   "execution_count": 4,
   "id": "d141353c",
   "metadata": {},
   "outputs": [
    {
     "data": {
      "text/plain": [
       "'C:\\\\Users\\\\W-HAWX\\\\PycharmProjects\\\\PDF_corpus_Collection'"
      ]
     },
     "execution_count": 4,
     "metadata": {},
     "output_type": "execute_result"
    }
   ],
   "source": [
    "import os\n",
    "os.getcwd()"
   ]
  },
  {
   "cell_type": "code",
   "execution_count": 5,
   "id": "739e175a",
   "metadata": {},
   "outputs": [],
   "source": [
    "from pdfminer.converter import PDFPageAggregator\n",
    "from pdfminer.layout import LAParams, LTFigure, LTTextBox\n",
    "from pdfminer.pdfdocument import PDFDocument\n",
    "from pdfminer.pdfinterp import PDFPageInterpreter, PDFResourceManager\n",
    "from pdfminer.pdfpage import PDFPage, PDFTextExtractionNotAllowed\n",
    "from pdfminer.pdfparser import PDFParser"
   ]
  },
  {
   "cell_type": "code",
   "execution_count": 6,
   "id": "6d0d5ae8",
   "metadata": {},
   "outputs": [],
   "source": [
    "from pathlib import Path\n",
    "import xlsxwriter\n",
    "\n",
    "encoding = 'ISO-8859-1'\n",
    "\n",
    "\n",
    "def get_data_from_pdfs(number):\n",
    "    path_pdfs = \"PDF_Disaster_Risk_Reduction/\" + str(number)\n",
    "\n",
    "    pdf_text_paragraphs_list = []\n",
    "    pdf_figures_stack = [\"\"]\n",
    "    paper_count = 0\n",
    "    row = 0\n",
    "\n",
    "    workbook = xlsxwriter.Workbook('dataset_' + str(number) + '.xlsx')\n",
    "\n",
    "    worksheet = workbook.add_worksheet()\n",
    "\n",
    "    for path in Path(path_pdfs).glob(\"*.pdf\"):\n",
    "\n",
    "        with path.open(\"rb\") as f:\n",
    "            parser = PDFParser(f)\n",
    "            doc = PDFDocument(parser)\n",
    "            page = list(PDFPage.create_pages(doc))[0]\n",
    "            rsrcmgr = PDFResourceManager()\n",
    "            #change laparams\n",
    "            device = PDFPageAggregator(rsrcmgr, laparams=LAParams(line_margin=1.50, word_margin=0.01))\n",
    "            interpreter = PDFPageInterpreter(rsrcmgr, device)\n",
    "            interpreter.process_page(page)\n",
    "            layout = device.get_result()\n",
    "\n",
    "            # debug\n",
    "            print(\"PAPER: \" + str(paper_count))\n",
    "\n",
    "            for obj in layout:\n",
    "\n",
    "                if isinstance(obj, LTTextBox):\n",
    "                    # get each paragraph and append to a list  with lowercase\n",
    "                    pdf_text_paragraphs_list.append(obj.get_text().lower())\n",
    "\n",
    "\n",
    "                elif isinstance(obj, LTFigure):\n",
    "                    pdf_figures_stack += list(obj)\n",
    "\n",
    "            word_exist_abstract = \"a b s t r a c t\"\n",
    "\n",
    "            keywords_data = \"\"\n",
    "            \n",
    "            abstract_data = \"\"\n",
    "            \n",
    "            # check the paragraph if it is abstract\n",
    "            for paragraph in pdf_text_paragraphs_list:\n",
    "\n",
    "                if word_exist_abstract in paragraph:\n",
    "                    print(\"Found!\")\n",
    "                    abstract_paragraph = paragraph.replace(word_exist_abstract, \"\")\n",
    "                    abstract_paragraph = abstract_paragraph.replace(\"\\n\", \"\")\n",
    "                    \n",
    "                #else:\n",
    "                    #print(\"Not found!\")\n",
    "                    \n",
    "            # print(pdf_text_paragraphs_list[abstract_index])\n",
    "            # print(\"dict info :\")\n",
    "            # print(doc.info[0])\n",
    "            abstract_data = abstract_paragraph\n",
    "\n",
    "            dict_doc_info = doc.info[0]\n",
    "            # retrieve title of the paper\n",
    "            \n",
    "            title_data = dict_doc_info[\"Title\"].decode(encoding)\n",
    "            # print(dict_doc_info[\"Title\"].decode(encoding))\n",
    "\n",
    "            # retrieve keywords from the paper\n",
    "            try:\n",
    "                keywords_data = dict_doc_info[\"Keywords\"].decode(encoding)\n",
    "            except:\n",
    "                print(\"An exception occurred in keywords: \", title_data)\n",
    "            # print(dict_doc_info[\"Keywords\"].decode(encoding))\n",
    "\n",
    "            print(\"Paper : \"+ str(paper_count))\n",
    "            print(\"Tittle : \"+ title_data)\n",
    "            print(\"keywords : \"+ keywords_data)\n",
    "            print(\"Abstract : \"+ abstract_data)\n",
    "\n",
    "            pdf_text_paragraphs_list.clear()\n",
    "\n",
    "            # save on the Excel file dataset_papers\n",
    "\n",
    "            titles_excel = [\"Title\", \"Keywords\", \"Abstract\", \"Year\", \"PDF Directory\"]\n",
    "            content = [title_data, keywords_data, abstract_data, path_pdfs, str(path)]\n",
    "\n",
    "            column = 0\n",
    "\n",
    "            if row == 0:\n",
    "                for item in titles_excel:\n",
    "                    # write operation perform\n",
    "                    worksheet.write(row, column, item)\n",
    "                    column += 1\n",
    "            else:\n",
    "                # iterating through content list\n",
    "                for item in content:\n",
    "                    worksheet.write(row, column, item)\n",
    "                    # incrementing the value of row by one\n",
    "                    # with each iteration.\n",
    "                    column += 1\n",
    "            row += 1\n",
    "        paper_count += 1\n",
    "\n",
    "    workbook.close()\n"
   ]
  },
  {
   "cell_type": "code",
   "execution_count": 7,
   "id": "dba93c3a",
   "metadata": {},
   "outputs": [],
   "source": [
    "def begin_pdf_path_extract():\n",
    "    for number in range(2017, 2022):\n",
    "        get_data_from_pdfs(number)\n"
   ]
  },
  {
   "cell_type": "code",
   "execution_count": null,
   "id": "18b59a87",
   "metadata": {},
   "outputs": [],
   "source": [
    "begin_pdf_path_extract()\n"
   ]
  }
 ],
 "metadata": {
  "kernelspec": {
   "display_name": "Python 3",
   "language": "python",
   "name": "python3"
  },
  "language_info": {
   "codemirror_mode": {
    "name": "ipython",
    "version": 3
   },
   "file_extension": ".py",
   "mimetype": "text/x-python",
   "name": "python",
   "nbconvert_exporter": "python",
   "pygments_lexer": "ipython3",
   "version": "3.6.13"
  }
 },
 "nbformat": 4,
 "nbformat_minor": 5
}
